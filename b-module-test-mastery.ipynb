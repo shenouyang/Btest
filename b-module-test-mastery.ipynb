{
 "cells": [
  {
   "cell_type": "raw",
   "metadata": {},
   "source": [
    "# B | Module Test"
   ]
  },
  {
   "cell_type": "markdown",
   "metadata": {},
   "source": [
    "<!-- BEGIN QUESTION -->\n",
    "## Part I - Core Questions\n",
    "\n",
    "### Question 1&nbsp;&nbsp;&nbsp;&nbsp;&nbsp;&nbsp;(15 Points)"
   ]
  },
  {
   "cell_type": "code",
   "execution_count": null,
   "metadata": {
    "tags": []
   },
   "outputs": [],
   "source": [
    "# Write your shell and git commands here \n",
    "git clone https://github.com/shenouyang/ModuleBexam.git\n",
    "mkdir qn-1\n",
    "mkdir qn-2\n",
    "mkdir qn-3\n",
    "mkdir qn-4\n",
    "mkdir qn-5\n",
    "cd qn-1\n",
    "touch touch-test\n",
    "cd ..\n",
    "git add *\n"
   ]
  },
  {
   "cell_type": "markdown",
   "metadata": {},
   "source": [
    "<!-- BEGIN QUESTION -->\n",
    "\n",
    "### Question 2&nbsp;&nbsp;&nbsp;&nbsp;&nbsp;&nbsp;(15 Points)"
   ]
  },
  {
   "cell_type": "markdown",
   "metadata": {
    "tags": []
   },
   "source": [
    "Your solution to this question should be a file, **find-fruit.sh**, added to your GitHub repository."
   ]
  },
  {
   "cell_type": "markdown",
   "metadata": {},
   "source": [
    "### Question 3&nbsp;&nbsp;&nbsp;&nbsp;&nbsp;&nbsp;(15 Points)"
   ]
  },
  {
   "cell_type": "code",
   "execution_count": 2,
   "metadata": {
    "tags": []
   },
   "outputs": [
    {
     "name": "stdout",
     "output_type": "stream",
     "text": [
      "30\n",
      "1\n",
      "550\n"
     ]
    }
   ],
   "source": [
    "# Write your test cases and comments here\n",
    "# A program to sum the first 'n' numbers that are divisible by 'a'.\n",
    "\n",
    "\n",
    "def sumadd(n,a):\n",
    "    count = 0\n",
    "    i = 1\n",
    "    result = 0\n",
    "\n",
    "    while count < n:\n",
    "        if i%a == 0:  # perform modulo division\n",
    "            result += i\n",
    "        count += 1\n",
    "        i += 1\n",
    "\n",
    "    print (result)\n",
    "\n",
    "# Test the nomral case\n",
    "assert(sumadd(10,2) != 30), \"Unit test failed\"\n",
    "# Test the edge case \n",
    "assert(sumadd(1,1) != 1), \"Unit test failed\"\n",
    "# Test the unintended case \n",
    "assert(sumadd(100,-10) != 510), \"Unit test failed\"\n"
   ]
  },
  {
   "cell_type": "markdown",
   "metadata": {
    "tags": []
   },
   "source": [
    "### Question 4&nbsp;&nbsp;&nbsp;&nbsp;&nbsp;&nbsp;(15 Points)\n",
    "\n"
   ]
  },
  {
   "cell_type": "code",
   "execution_count": null,
   "metadata": {},
   "outputs": [],
   "source": [
    "# Write your debugging steps here\n",
    "\"\n",
    "p i\n",
    "c\n",
    "p i\n",
    "c\n",
    "result\n",
    "count\n",
    "c\n",
    "result\n",
    "count\n",
    "c\n",
    "result\n",
    "count\n",
    "c\n",
    "p i\n",
    "c\n",
    "result\n",
    "count\n",
    "\n",
    "\""
   ]
  },
  {
   "cell_type": "code",
   "execution_count": 5,
   "metadata": {},
   "outputs": [
    {
     "name": "stdout",
     "output_type": "stream",
     "text": [
      "30\n"
     ]
    }
   ],
   "source": [
    "# Write your corrected program here:\n",
    "import pdb\n",
    "# A program to sum the first 'n' numbers that are divisible by 'a'.\n",
    "n=5\n",
    "a=2\n",
    "\n",
    "count = 0\n",
    "i = 1\n",
    "result = 0\n",
    "while count < n:\n",
    "    if i%a == 0:  # perform modulo division\n",
    "        result += i\n",
    "        count += 1 #count +=1 should be in this place\n",
    "    #pdb.set_trace()\n",
    "    i += 1\n",
    "\n",
    "print (result)\n",
    "\n"
   ]
  },
  {
   "cell_type": "markdown",
   "metadata": {},
   "source": [
    "## Part II - Higher Order Question\n",
    "\n",
    "### Question 5&nbsp;&nbsp;&nbsp;&nbsp;&nbsp;&nbsp;(40 Points)"
   ]
  },
  {
   "cell_type": "code",
   "execution_count": null,
   "metadata": {
    "tags": []
   },
   "outputs": [],
   "source": [
    "# Write your shell and git commands here for all steps in this question.\n",
    "git branch reversesort\n",
    "cd qn-1\n",
    "mv touch-test LICENSE\n",
    "echo \"Permission is hereby granted, free of charge, to any person obtaining a copy of this software and associated documentation files (the “Software”), to deal in the Software without restriction.\" >>LICENSE\n",
    "cd ..\n",
    "cd qn-5\n",
    "touch README.md\n",
    "echo \"This ReadMe contains important information. \" >> README.md\n",
    "cd ..\n",
    "cp qn-2/find-fruit.sh qn-5/find-reverse-fruit.sh\n",
    "cd qn-5\n",
    "./find-reverse-fruit.sh fruit-and-veg.txt out3.txt co\n",
    "cd ..\n",
    "git add *\n",
    "git commit -m\"commit all modifed\"\n",
    "git merge reversesort\n",
    "git push"
   ]
  },
  {
   "cell_type": "markdown",
   "metadata": {},
   "source": [
    "Your solution to this question should **also** include the file, **find-reverse-fruit.sh**, added to your repository."
   ]
  },
  {
   "cell_type": "markdown",
   "metadata": {},
   "source": [
    "<!-- END QUESTION -->\n",
    "\n"
   ]
  }
 ],
 "metadata": {
  "celltoolbar": "Edit Metadata",
  "kernelspec": {
   "display_name": "Python 3 (ipykernel)",
   "language": "python",
   "name": "python3"
  },
  "language_info": {
   "codemirror_mode": {
    "name": "ipython",
    "version": 3
   },
   "file_extension": ".py",
   "mimetype": "text/x-python",
   "name": "python",
   "nbconvert_exporter": "python",
   "pygments_lexer": "ipython3",
   "version": "3.9.12"
  },
  "varInspector": {
   "cols": {
    "lenName": 16,
    "lenType": 16,
    "lenVar": 40
   },
   "kernels_config": {
    "python": {
     "delete_cmd_postfix": "",
     "delete_cmd_prefix": "del ",
     "library": "var_list.py",
     "varRefreshCmd": "print(var_dic_list())"
    },
    "r": {
     "delete_cmd_postfix": ") ",
     "delete_cmd_prefix": "rm(",
     "library": "var_list.r",
     "varRefreshCmd": "cat(var_dic_list()) "
    }
   },
   "types_to_exclude": [
    "module",
    "function",
    "builtin_function_or_method",
    "instance",
    "_Feature"
   ],
   "window_display": false
  }
 },
 "nbformat": 4,
 "nbformat_minor": 4
}
